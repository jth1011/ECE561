{
 "cells": [
  {
   "cell_type": "code",
   "execution_count": 1,
   "metadata": {},
   "outputs": [],
   "source": [
    "# ECE 561 - Jackson Hellmers\n",
    "import numpy as np"
   ]
  },
  {
   "cell_type": "code",
   "execution_count": 2,
   "metadata": {},
   "outputs": [],
   "source": [
    "'''\n",
    "Generates all the outcomes in the set of rolling a 6 sided die 7 times\n",
    "'''\n",
    "def gen_trial():\n",
    "    set_list = set()\n",
    "    current_set = \"\"\n",
    "    count = 0\n",
    "    gen_trial_helper(set_list,current_set,1,count)\n",
    "    gen_trial_helper(set_list,current_set,2,count)\n",
    "    gen_trial_helper(set_list,current_set,3,count)\n",
    "    gen_trial_helper(set_list,current_set,4,count)\n",
    "    gen_trial_helper(set_list,current_set,5,count)\n",
    "    gen_trial_helper(set_list,current_set,6,count)\n",
    "    return set_list"
   ]
  },
  {
   "cell_type": "code",
   "execution_count": 3,
   "metadata": {},
   "outputs": [],
   "source": [
    "'''\n",
    "Helper method for gen_trial function\n",
    "'''\n",
    "def gen_trial_helper(set_list,current_set,to_add,count):\n",
    "    if count == 7:\n",
    "        set_list.add(current_set)\n",
    "        return\n",
    "    current_set = current_set+str(to_add)\n",
    "    count+=1\n",
    "    gen_trial_helper(set_list,current_set,1,count)\n",
    "    gen_trial_helper(set_list,current_set,2,count)\n",
    "    gen_trial_helper(set_list,current_set,3,count)\n",
    "    gen_trial_helper(set_list,current_set,4,count)\n",
    "    gen_trial_helper(set_list,current_set,5,count)\n",
    "    gen_trial_helper(set_list,current_set,6,count)"
   ]
  },
  {
   "cell_type": "code",
   "execution_count": 4,
   "metadata": {},
   "outputs": [],
   "source": [
    "'''\n",
    "Function to add multiple values to the same key in a dictionary\n",
    "'''\n",
    "def add_values_in_dict(sample_dict, key, list_of_values):\n",
    "    if key not in sample_dict:\n",
    "        sample_dict[key] = list()\n",
    "    sample_dict[key].extend(list_of_values)\n",
    "    return sample_dict"
   ]
  },
  {
   "cell_type": "code",
   "execution_count": 5,
   "metadata": {},
   "outputs": [
    {
     "name": "stdout",
     "output_type": "stream",
     "text": [
      "Size of set:\n",
      "279936\n"
     ]
    }
   ],
   "source": [
    "# Part A\n",
    "\n",
    "total_set = gen_trial() # Generate all outcomes in set and verify its size\n",
    "assert (len(total_set) == (6**7)),\"Size of set is incorrect\"\n",
    "print(\"Size of set:\")\n",
    "print(len(total_set))"
   ]
  },
  {
   "cell_type": "code",
   "execution_count": 6,
   "metadata": {},
   "outputs": [
    {
     "name": "stdout",
     "output_type": "stream",
     "text": [
      "Probability of Each Equiprobable Outcome:\n",
      "0.00035722450845907634%\n"
     ]
    }
   ],
   "source": [
    "# Part B\n",
    "\n",
    "# Since the dice is fair and each toss is independent all outcomes\n",
    "# are equiprobable.\n",
    "print(\"Probability of Each Equiprobable Outcome:\")\n",
    "print(str(100/len(total_set))+\"%\")"
   ]
  },
  {
   "cell_type": "code",
   "execution_count": 7,
   "metadata": {},
   "outputs": [],
   "source": [
    "# Part C and D\n",
    "\n",
    "# Get number of times each side of the die appears in the outcome\n",
    "# Use this as the key to the dictionary\n",
    "multinomial_dict = dict()\n",
    "for outcome in total_set:\n",
    "    to_add = \"\"\n",
    "    to_add += str(outcome.count('1')) # For example is outcomes was 1145366\n",
    "    to_add += str(outcome.count('2')) # the key would be 201112\n",
    "    to_add += str(outcome.count('3')) # as there are two 1s, zero 2s,\n",
    "    to_add += str(outcome.count('4')) # one 3, one 4, one 5, and two 6s\n",
    "    to_add += str(outcome.count('5'))\n",
    "    to_add += str(outcome.count('6'))\n",
    "    add_values_in_dict(multinomial_dict,to_add,[outcome]) # Add outcome and its key to dict\n",
    "    \n",
    "# Our set is 6 different integer values which can take the value of {0,1,2,3,4,5,6,7}\n",
    "# the 6 integers must add up to 7"
   ]
  },
  {
   "cell_type": "code",
   "execution_count": 8,
   "metadata": {},
   "outputs": [
    {
     "name": "stdout",
     "output_type": "stream",
     "text": [
      "Number of Different Multinomial Outputs\n",
      "792\n"
     ]
    }
   ],
   "source": [
    "# Part E\n",
    "\n",
    "print(\"Number of Different Multinomial Outputs\")\n",
    "print(len(multinomial_dict.keys()))"
   ]
  },
  {
   "cell_type": "code",
   "execution_count": 9,
   "metadata": {},
   "outputs": [
    {
     "name": "stdout",
     "output_type": "stream",
     "text": [
      "[1260 1260 1260 1260 2520 2520 2520 2520 2520 2520]\n"
     ]
    }
   ],
   "source": [
    "# Part F\n",
    "\n",
    "num_outputs = np.array([len(x) for x in multinomial_dict.values()]) # Convert key and values into lists\n",
    "key_list = list(multinomial_dict.keys())\n",
    "sorted_index = np.argsort(num_outputs,axis=None) # Sort by keys with most values\n",
    "print(num_outputs[sorted_index[-10:]])"
   ]
  },
  {
   "cell_type": "code",
   "execution_count": 10,
   "metadata": {},
   "outputs": [
    {
     "name": "stdout",
     "output_type": "stream",
     "text": [
      "Most Probable Multinomial Outputs (Each Index Shows Number of Occurances For That Label):\n",
      "111112\n",
      "111211\n",
      "112111\n",
      "121111\n",
      "211111\n",
      "111121\n",
      "Probability of Most Probable Outputs (6 Outputs Have Equiprobably Max Probability):\n",
      "0.9002%\n"
     ]
    }
   ],
   "source": [
    "# Part F continued\n",
    "\n",
    "largest_indices = sorted_index[-6:] # Get indices of largest dictionary keys\n",
    "print(\"Most Probable Multinomial Outputs (Each Index Shows Number of Occurances For That Label):\")\n",
    "for index in largest_indices:\n",
    "    print(key_list[index]) # Print out most common dictionary keys\n",
    "\n",
    "prob = num_outputs[largest_indices[0]]/num_outputs.sum() # Calculate probability\n",
    "print(\"Probability of Most Probable Outputs (6 Outputs Have Equiprobably Max Probability):\")\n",
    "print(str(round(prob*100,4))+\"%\")\n",
    "\n",
    "# We see that the most probable outcomes are when every label occurs at least once\n",
    "# with one of the labels occuring twice. Which conceptually makes sense"
   ]
  },
  {
   "cell_type": "code",
   "execution_count": null,
   "metadata": {},
   "outputs": [],
   "source": []
  }
 ],
 "metadata": {
  "kernelspec": {
   "display_name": "Python 3",
   "language": "python",
   "name": "python3"
  },
  "language_info": {
   "codemirror_mode": {
    "name": "ipython",
    "version": 3
   },
   "file_extension": ".py",
   "mimetype": "text/x-python",
   "name": "python",
   "nbconvert_exporter": "python",
   "pygments_lexer": "ipython3",
   "version": "3.8.5"
  }
 },
 "nbformat": 4,
 "nbformat_minor": 4
}
