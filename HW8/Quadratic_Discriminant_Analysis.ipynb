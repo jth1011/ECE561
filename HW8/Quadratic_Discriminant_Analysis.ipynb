{
 "cells": [
  {
   "cell_type": "markdown",
   "metadata": {},
   "source": [
    "#### Question 4"
   ]
  },
  {
   "cell_type": "code",
   "execution_count": 1,
   "metadata": {
    "id": "aEA7G0svd4iR"
   },
   "outputs": [],
   "source": [
    "import numpy as np\n",
    "import matplotlib.pyplot as plt"
   ]
  },
  {
   "cell_type": "code",
   "execution_count": 2,
   "metadata": {
    "id": "JM8igMtud8gv"
   },
   "outputs": [],
   "source": [
    "# Vector Means\n",
    "mu0 = np.array([[1],[0]])\n",
    "mu1 = np.array([[0],[2]])\n",
    "\n",
    "# Vector Covariance Matrices\n",
    "sig0 = np.array([[8,3],[3,2]])\n",
    "sig1 = np.array([[1,0.1],[0.1,1]])\n",
    "\n",
    "# Inverse Covariance Matrices\n",
    "inv_sig0 = np.linalg.inv(sig0)\n",
    "inv_sig1 = np.linalg.inv(sig1)\n",
    "\n",
    "# Covariance Matrix Determinants\n",
    "det0 = np.linalg.det(sig0)\n",
    "det1 = np.linalg.det(sig1)\n",
    "\n",
    "# Linear Transformations\n",
    "A0 = np.linalg.cholesky(sig0)\n",
    "A1 = np.linalg.cholesky(sig1)"
   ]
  },
  {
   "cell_type": "code",
   "execution_count": 3,
   "metadata": {
    "id": "-pzqEebbfCkO"
   },
   "outputs": [],
   "source": [
    "def classify(x):\n",
    "  dx0 = (x-mu0)\n",
    "  y0 = (-0.5*np.log(det0))-(0.5*dx0.T@inv_sig0@dx0)\n",
    "  dx1 = (x-mu1)\n",
    "  y1 = (-0.5*np.log(det1))-(0.5*dx1.T@inv_sig1@dx1)\n",
    "  if y0 >= y1:\n",
    "    return True\n",
    "  else:\n",
    "    return False"
   ]
  },
  {
   "cell_type": "code",
   "execution_count": 4,
   "metadata": {
    "id": "h0Uk9r9Aw1Qj"
   },
   "outputs": [
    {
     "name": "stderr",
     "output_type": "stream",
     "text": [
      "<ipython-input-4-ba9f797bb53b>:7: DeprecationWarning: setting an array element with a sequence. This was supported in some cases where the elements are arrays with a single element. For example `np.array([1, np.array([2])], dtype=int)`. In the future this will raise the same ValueError as `np.array([1, [2]], dtype=int)`.\n",
      "  xy0[i] = [temp[0],temp[1]]\n",
      "<ipython-input-4-ba9f797bb53b>:12: DeprecationWarning: setting an array element with a sequence. This was supported in some cases where the elements are arrays with a single element. For example `np.array([1, np.array([2])], dtype=int)`. In the future this will raise the same ValueError as `np.array([1, [2]], dtype=int)`.\n",
      "  xy1[i] = [temp[0],temp[1]]\n"
     ]
    }
   ],
   "source": [
    "xy0 = np.zeros((1000,2))\n",
    "xy1 = np.zeros((1000,2))\n",
    "misclass = 0\n",
    "for i in range(1000):\n",
    "  x = np.random.randn(2,1)\n",
    "  temp = (A0@x)+mu0\n",
    "  xy0[i] = [temp[0],temp[1]]\n",
    "  if classify(temp):\n",
    "    misclass+=1\n",
    "  x = np.random.randn(2,1)\n",
    "  temp = (A1@x)+mu1\n",
    "  xy1[i] = [temp[0],temp[1]]\n",
    "  if not classify(temp):\n",
    "    misclass+=1"
   ]
  },
  {
   "cell_type": "code",
   "execution_count": 5,
   "metadata": {
    "id": "tCqDZjcEeQIY"
   },
   "outputs": [],
   "source": [
    "nn = 400\n",
    "x1g = np.linspace(-10, 10, nn)\n",
    "x2g = np.linspace(-10, 10, nn)\n",
    "decisions = -1*np.ones((nn,nn))\n",
    "\n",
    "for i, x1 in enumerate(x1g):\n",
    "  for j, x2 in enumerate(x2g):\n",
    "    x = np.array([[x1],[x2]])\n",
    "    if (classify(x)):\n",
    "      decisions[j,i] = 1"
   ]
  },
  {
   "cell_type": "code",
   "execution_count": 6,
   "metadata": {
    "colab": {
     "base_uri": "https://localhost:8080/",
     "height": 286
    },
    "id": "lhqftemPv97r",
    "outputId": "3f05fcbc-d892-4443-8e51-169faf24e86d"
   },
   "outputs": [
    {
     "data": {
      "text/plain": [
       "<matplotlib.collections.PathCollection at 0x238f19fd700>"
      ]
     },
     "execution_count": 6,
     "metadata": {},
     "output_type": "execute_result"
    },
    {
     "data": {
      "image/png": "[encoded data removed]",
      "text/plain": [
       "<Figure size 432x288 with 1 Axes>"
      ]
     },
     "metadata": {
      "needs_background": "light"
     },
     "output_type": "display_data"
    }
   ],
   "source": [
    "plt.figure()\n",
    "plt.contourf(x1g, x2g, decisions,colors=['red','blue'],alpha=0.5)\n",
    "plt.scatter(xy0[:,0],xy0[:,1],color='blue')\n",
    "plt.scatter(xy1[:,0],xy1[:,1],color='red')"
   ]
  },
  {
   "cell_type": "code",
   "execution_count": 7,
   "metadata": {
    "colab": {
     "base_uri": "https://localhost:8080/",
     "height": 0
    },
    "id": "mTHmcPA7L33K",
    "outputId": "8a1195c4-a369-493f-a8f2-6d049a9cea56"
   },
   "outputs": [
    {
     "name": "stdout",
     "output_type": "stream",
     "text": [
      "Misclassification Rate: 0.084500\n"
     ]
    }
   ],
   "source": [
    "print(\"Misclassification Rate: %f\" %(1-(misclass/2000)))"
   ]
  },
  {
   "cell_type": "code",
   "execution_count": null,
   "metadata": {
    "id": "tIZ6M4z6OC4Z"
   },
   "outputs": [],
   "source": []
  }
 ],
 "metadata": {
  "colab": {
   "name": "Quadratic_Discriminant_Analysis.ipynb",
   "provenance": []
  },
  "kernelspec": {
   "display_name": "Python 3",
   "language": "python",
   "name": "python3"
  },
  "language_info": {
   "codemirror_mode": {
    "name": "ipython",
    "version": 3
   },
   "file_extension": ".py",
   "mimetype": "text/x-python",
   "name": "python",
   "nbconvert_exporter": "python",
   "pygments_lexer": "ipython3",
   "version": "3.8.5"
  }
 },
 "nbformat": 4,
 "nbformat_minor": 1
}
