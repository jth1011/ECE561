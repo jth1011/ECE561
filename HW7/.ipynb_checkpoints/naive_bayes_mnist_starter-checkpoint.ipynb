{
 "cells": [
  {
   "cell_type": "code",
   "execution_count": 1,
   "metadata": {
    "scrolled": false
   },
   "outputs": [
    {
     "name": "stdout",
     "output_type": "stream",
     "text": [
      "A few example images:\n"
     ]
    },
    {
     "data": {
      "image/png": "[encoded data removed]",
      "text/plain": [
       "<Figure size 432x288 with 15 Axes>"
      ]
     },
     "metadata": {},
     "output_type": "display_data"
    }
   ],
   "source": [
    "import numpy as np\n",
    "import tensorflow as tf\n",
    "import matplotlib.pyplot as plt \n",
    "from matplotlib import pyplot as plt\n",
    "\n",
    "(x_train, y_train), (x_test, y_test) = tf.keras.datasets.mnist.load_data()\n",
    "\n",
    "## function to plot images in grid\n",
    "def show_images(images, rows, cols):\n",
    "    for i in range(rows * cols):\n",
    "        plt.subplot(rows, cols, i + 1)\n",
    "        plt.imshow(images[i], cmap=plt.cm.gray_r)\n",
    "        plt.xticks(())\n",
    "        plt.yticks(())\n",
    "    plt.show()\n",
    "\n",
    "# convert to 0/1 (instead of 0-255)\n",
    "x_train_int = [np.round(1.0*i/256) for i in x_train] \n",
    "x_test_int = [np.round(1.0*i/256) for i in x_test]\n",
    "\n",
    "## Uncomment below to see a few images\n",
    "print('A few example images:')\n",
    "show_images(x_test_int, 3, 5)\n"
   ]
  },
  {
   "cell_type": "markdown",
   "metadata": {},
   "source": [
    "#### Part d"
   ]
  },
  {
   "cell_type": "code",
   "execution_count": 2,
   "metadata": {},
   "outputs": [],
   "source": [
    "# calculates the conditional counts by taking the elementwise and operation of the original array against\n",
    "# the array shifted down and the array shifted left. while it does not take into account pixels on the edge\n",
    "# of the image it is faster than a for loop iterating over each pixel\n",
    "\n",
    "def helper(x,p0,p1,p2):\n",
    "    temp_shift1 = np.roll(x,1,axis=0) # shift array elements down\n",
    "    temp_shift2 = np.roll(x,1,axis=1) # shift array elements left\n",
    "    # we are looking for p(xi|xj,xk,y) where xj is pixel to the left and xk is pixel above\n",
    "    # by shifting the array down 1 (temp_shift1) and left 1 (temp_shift2) we are able\n",
    "    # to make it so that xi, xj, and xk all overlap\n",
    "    \n",
    "    # negate arrays if we are looking for when xi,xj,xk=0 as the not of 0 is 1\n",
    "    # for example if we are looking for when xj=0 and xk=1 we would only negate the\n",
    "    # array corresponding to xk (temp_shift1)\n",
    "    if (not p0):\n",
    "        x = np.logical_not(x) # for when we are looking for xi=0\n",
    "    if (not p1):\n",
    "        temp_shift1 = np.logical_not(temp_shift1) # for when above pixel is 0\n",
    "    if (not p2):\n",
    "        temp_shift2 = np.logical_not(temp_shift2) # for when left pixel is 0\n",
    "        \n",
    "    # we then perform an AND of the three arrays so that it returns a 28x28 array where\n",
    "    # elements that match our conditional criteria will return TRUE\n",
    "    return np.logical_and(np.logical_and(x,temp_shift1),temp_shift2)"
   ]
  },
  {
   "cell_type": "code",
   "execution_count": 3,
   "metadata": {},
   "outputs": [],
   "source": [
    "# get the conditional counts from the training images\n",
    "\n",
    "count = np.zeros((2,10,4,28,28))\n",
    "for i,x in enumerate(x_train_int):\n",
    "    label = y_train[i] # get the label of the current training image\n",
    "    for j in range(2): # iterate over 2 as we need to check when xi=0 and when xi=1\n",
    "        \n",
    "        # iterate over 4 for the 4 conditional conditions\n",
    "        # xj=0 and xk=0\n",
    "        # xj=0 and xk=1\n",
    "        # xj=1 and xk=0\n",
    "        # xj=1 and xk=1\n",
    "        for k in range(4):\n",
    "            count[j,label,k] += helper(x,j,np.floor(k/2),k%2) \n",
    "            # use k/2 and k%2 returns 00, 01, 10, 11\n",
    "            # when k=0: k/2=0 and k%2=0\n",
    "            # when k=1: k/2=0 and k%2=1\n",
    "            # when k=2: k/2=1 and k%2=0\n",
    "            # when k=3: k/2=1 and k%2=1"
   ]
  },
  {
   "cell_type": "code",
   "execution_count": 4,
   "metadata": {},
   "outputs": [],
   "source": [
    "# use the conditional counts to calculate conditional probabilities\n",
    "\n",
    "prob = np.zeros((2,10,4,28,28))\n",
    "for i in range(10):\n",
    "    for j in range(4):\n",
    "        tot = np.add(count[0,i,j],count[1,i,j]) # total counts of xj=i, xk=j\n",
    "        prob[0,i,j] = (1+count[0,i,j])/(2+tot) # probability of xi=0, xj=i, and xk=j\n",
    "        prob[1,i,j] = (1+count[1,i,j])/(2+tot) # probability of xi=1, xj=i, and xk=j"
   ]
  },
  {
   "cell_type": "code",
   "execution_count": 5,
   "metadata": {},
   "outputs": [
    {
     "name": "stdout",
     "output_type": "stream",
     "text": [
      "Conditional Probabilities for portion of xi=0, xj=0, xk=0, y=9:\n",
      "[[0.5879 0.7158 0.9316 0.9894 0.9854 0.9714 0.9199 0.8521 0.8297 0.897 ]\n",
      " [0.729  0.9314 0.9899 0.9878 0.9734 0.92   0.843  0.7471 0.7051 0.8658]\n",
      " [0.901  0.9836 0.9896 0.9667 0.9161 0.8383 0.7348 0.6299 0.708  0.9237]\n",
      " [0.9638 0.9866 0.963  0.9169 0.8372 0.7414 0.6239 0.58   0.7776 0.9811]\n",
      " [0.9797 0.9602 0.9243 0.8569 0.7691 0.6872 0.636  0.6633 0.9003 0.9844]\n",
      " [0.9778 0.9488 0.8968 0.8431 0.7933 0.7315 0.6759 0.7678 0.9604 0.9932]\n",
      " [0.9862 0.9739 0.9443 0.9101 0.8461 0.7687 0.7255 0.8688 0.9807 0.9965]\n",
      " [0.9944 0.9885 0.9759 0.9217 0.8242 0.7902 0.8216 0.9333 0.9888 0.9965]\n",
      " [0.9962 0.9868 0.9567 0.8875 0.8304 0.8421 0.8866 0.9695 0.9933 0.9977]\n",
      " [0.9921 0.9751 0.933  0.8842 0.8552 0.8799 0.9333 0.9842 0.9953 0.9971]]\n"
     ]
    }
   ],
   "source": [
    "# you dont need to do this I just did it to make sure stuff was working\n",
    "print(\"Conditional Probabilities for portion of xi=0, xj=0, xk=0, y=9:\")\n",
    "print(prob[0,9,0,10:20,10:20].round(4))"
   ]
  },
  {
   "cell_type": "markdown",
   "metadata": {},
   "source": [
    "#### Part e"
   ]
  },
  {
   "cell_type": "code",
   "execution_count": 6,
   "metadata": {},
   "outputs": [],
   "source": [
    "def predict(x,probs):\n",
    "    log_pred = np.zeros(10)\n",
    "    for i in range(2):\n",
    "        for j in range(4):\n",
    "            # instead of multiplying the probabilities we add the log probabilities\n",
    "            log_pred += np.sum(np.log(prob[i,:,j,helper(x,i,np.floor(j/2),j%2)]),axis=0)\n",
    "    return log_pred"
   ]
  },
  {
   "cell_type": "markdown",
   "metadata": {},
   "source": [
    "#### Part f"
   ]
  },
  {
   "cell_type": "code",
   "execution_count": 14,
   "metadata": {},
   "outputs": [
    {
     "name": "stdout",
     "output_type": "stream",
     "text": [
      "Correct Classification Rate: 0.927200\n"
     ]
    }
   ],
   "source": [
    "conf_mat = np.zeros((10,10)) # create empty confusion matrix\n",
    "misclass = 0 # keep track of misclassificatons\n",
    "for i,x in enumerate(x_test_int):\n",
    "    y_pred = np.argmax(predict(x,prob))\n",
    "    conf_mat[y_pred,y_test[i]] += 1\n",
    "    if (y_pred != y_test[i]):\n",
    "        misclass += 1\n",
    "print(\"Correct Classification Rate: %f\" %(1-(misclass/len(y_test))))"
   ]
  },
  {
   "cell_type": "code",
   "execution_count": 30,
   "metadata": {},
   "outputs": [
    {
     "name": "stdout",
     "output_type": "stream",
     "text": [
      "Rows are predicted value. Columns are actual value.\n"
     ]
    },
    {
     "data": {
      "text/plain": [
       "<Figure size 1440x1440 with 0 Axes>"
      ]
     },
     "metadata": {},
     "output_type": "display_data"
    },
    {
     "data": {
      "image/png": "[encoded data removed]",
      "text/plain": [
       "<Figure size 288x288 with 1 Axes>"
      ]
     },
     "metadata": {
      "needs_background": "light"
     },
     "output_type": "display_data"
    }
   ],
   "source": [
    "np.set_printoptions(suppress=True)\n",
    "print(\"Rows are predicted value. Columns are actual value.\")\n",
    "plt.figure(figsize=(20,20));\n",
    "plt.matshow(conf_mat,cmap=plt.cm.Blues,alpha=0.5);\n",
    "plt.ylabel(\"Predicted Label\");\n",
    "plt.xlabel(\"Actual Label\");\n",
    "for i in range(conf_mat.shape[0]):\n",
    "    for j in range(conf_mat.shape[1]):\n",
    "        plt.text(x=j, y=i,s=conf_mat[i, j].astype('int'), va='center', ha='center', size='small');"
   ]
  },
  {
   "cell_type": "code",
   "execution_count": null,
   "metadata": {},
   "outputs": [],
   "source": []
  }
 ],
 "metadata": {
  "kernelspec": {
   "display_name": "Python 3",
   "language": "python",
   "name": "python3"
  },
  "language_info": {
   "codemirror_mode": {
    "name": "ipython",
    "version": 3
   },
   "file_extension": ".py",
   "mimetype": "text/x-python",
   "name": "python",
   "nbconvert_exporter": "python",
   "pygments_lexer": "ipython3",
   "version": "3.8.5"
  }
 },
 "nbformat": 4,
 "nbformat_minor": 2
}
