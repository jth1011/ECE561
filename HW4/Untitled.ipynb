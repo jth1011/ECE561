{
 "cells": [
  {
   "cell_type": "markdown",
   "metadata": {},
   "source": [
    "#### Question 4d"
   ]
  },
  {
   "cell_type": "code",
   "execution_count": 1,
   "metadata": {},
   "outputs": [],
   "source": [
    "import random"
   ]
  },
  {
   "cell_type": "code",
   "execution_count": 9,
   "metadata": {},
   "outputs": [],
   "source": [
    "def getXY():\n",
    "    x = 1 if random.uniform(0,1) <= 0.25 else 2\n",
    "    if x==1:\n",
    "        y = 1 if random.uniform(0,1) <= 0.5 else 2\n",
    "    else:\n",
    "        y = 1 if random.uniform(0,1) <= 0.666 else 2\n",
    "    return x,y"
   ]
  },
  {
   "cell_type": "code",
   "execution_count": 10,
   "metadata": {},
   "outputs": [
    {
     "name": "stdout",
     "output_type": "stream",
     "text": [
      "P(X=1,Y=1) = 0.12524\n",
      "P(X=1,Y=2) = 0.1237\n",
      "P(X=2,Y=1) = 0.49916\n",
      "P(X=2,Y=2) = 0.2519\n"
     ]
    }
   ],
   "source": [
    "x1y1 = 0\n",
    "x1y2 = 0\n",
    "x2y1 = 0\n",
    "x2y2 = 0\n",
    "num = 100000\n",
    "for i in range(num):\n",
    "    x,y = getXY()\n",
    "    if x==1 and y==1:\n",
    "        x1y1+=1\n",
    "    elif x==1 and y==2:\n",
    "        x1y2+=1\n",
    "    elif x==2 and y==1:\n",
    "        x2y1+=1\n",
    "    elif x==2 and y==2:\n",
    "        x2y2+=1\n",
    "print(\"P(X=1,Y=1) = \"+str(x1y1/num))\n",
    "print(\"P(X=1,Y=2) = \"+str(x1y2/num))\n",
    "print(\"P(X=2,Y=1) = \"+str(x2y1/num))\n",
    "print(\"P(X=2,Y=2) = \"+str(x2y2/num))"
   ]
  },
  {
   "cell_type": "code",
   "execution_count": null,
   "metadata": {},
   "outputs": [],
   "source": []
  }
 ],
 "metadata": {
  "kernelspec": {
   "display_name": "Python 3",
   "language": "python",
   "name": "python3"
  },
  "language_info": {
   "codemirror_mode": {
    "name": "ipython",
    "version": 3
   },
   "file_extension": ".py",
   "mimetype": "text/x-python",
   "name": "python",
   "nbconvert_exporter": "python",
   "pygments_lexer": "ipython3",
   "version": "3.8.5"
  }
 },
 "nbformat": 4,
 "nbformat_minor": 4
}
