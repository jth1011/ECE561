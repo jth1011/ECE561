{
 "cells": [
  {
   "cell_type": "code",
   "execution_count": 1,
   "metadata": {
    "scrolled": false
   },
   "outputs": [
    {
     "name": "stdout",
     "output_type": "stream",
     "text": [
      "(60000, 28, 28)\n",
      "(10000, 28, 28)\n"
     ]
    }
   ],
   "source": [
    "# ECE 561 - Jackson Hellmers\n",
    "import random\n",
    "import numpy as np\n",
    "import tensorflow as tf\n",
    "import matplotlib.pyplot as plt \n",
    "from matplotlib import pyplot as plt\n",
    "\n",
    "# load data and split into training and test sets\n",
    "(x_train, y_train), (x_test, y_test) = tf.keras.datasets.mnist.load_data()\n",
    "\n",
    "x_train = x_train.astype(float)\n",
    "y_train = y_train.astype(float)\n",
    "x_test = x_test.astype(float)\n",
    "y_test = y_test.astype(float)\n",
    "\n",
    "# note x_train is a numpy array with size (60000, 28 28)\n",
    "print(np.shape(x_train))\n",
    "print(np.shape(x_test))\n",
    "\n",
    "# for this assignment, only use the first 2000 training examples\n",
    "x_train = x_train[0:2000,:,:]\n",
    "y_train = y_train[0:2000]"
   ]
  },
  {
   "cell_type": "code",
   "execution_count": 2,
   "metadata": {},
   "outputs": [
    {
     "name": "stdout",
     "output_type": "stream",
     "text": [
      "The image displayed is an '8'\n",
      "The label for the image displayed is 8\n"
     ]
    },
    {
     "data": {
      "image/png": "[encoded data removed]",
      "text/plain": [
       "<Figure size 432x288 with 1 Axes>"
      ]
     },
     "metadata": {
      "needs_background": "light"
     },
     "output_type": "display_data"
    }
   ],
   "source": [
    "# Prob. 1\n",
    "# note that you can access the ith image in x_train as x_train[i-1,:,:]\n",
    "# use plt.imshow(the_image, cmap=plt.cm.gray_r) to display image\n",
    "\n",
    "img_18 = x_train[17,:,:]\n",
    "plt.imshow(img_18, cmap=plt.cm.gray_r)\n",
    "\n",
    "print(\"The image displayed is an '8'\")\n",
    "print(\"The label for the image displayed is\",int(y_train[17]))"
   ]
  },
  {
   "cell_type": "code",
   "execution_count": 3,
   "metadata": {},
   "outputs": [
    {
     "data": {
      "image/png": "[encoded data removed]",
      "text/plain": [
       "<Figure size 432x288 with 1 Axes>"
      ]
     },
     "metadata": {
      "needs_background": "light"
     },
     "output_type": "display_data"
    },
    {
     "name": "stdout",
     "output_type": "stream",
     "text": [
      "Label: 1\n"
     ]
    },
    {
     "data": {
      "image/png": "[encoded data removed]",
      "text/plain": [
       "<Figure size 432x288 with 1 Axes>"
      ]
     },
     "metadata": {
      "needs_background": "light"
     },
     "output_type": "display_data"
    },
    {
     "name": "stdout",
     "output_type": "stream",
     "text": [
      "Label: 2\n"
     ]
    },
    {
     "data": {
      "image/png": "[encoded data removed]",
      "text/plain": [
       "<Figure size 432x288 with 1 Axes>"
      ]
     },
     "metadata": {
      "needs_background": "light"
     },
     "output_type": "display_data"
    },
    {
     "name": "stdout",
     "output_type": "stream",
     "text": [
      "Label: 9\n"
     ]
    },
    {
     "data": {
      "image/png": "[encoded data removed]",
      "text/plain": [
       "<Figure size 432x288 with 1 Axes>"
      ]
     },
     "metadata": {
      "needs_background": "light"
     },
     "output_type": "display_data"
    },
    {
     "name": "stdout",
     "output_type": "stream",
     "text": [
      "Label: 0\n"
     ]
    },
    {
     "data": {
      "image/png": "[encoded data removed]",
      "text/plain": [
       "<Figure size 432x288 with 1 Axes>"
      ]
     },
     "metadata": {
      "needs_background": "light"
     },
     "output_type": "display_data"
    },
    {
     "name": "stdout",
     "output_type": "stream",
     "text": [
      "Label: 3\n"
     ]
    }
   ],
   "source": [
    "# Prob. 2\n",
    "for i in range(5):\n",
    "    toShow = random.randint(0,len(y_train))\n",
    "    plt.imshow(x_train[toShow,:,:], cmap=plt.cm.gray_r)\n",
    "    plt.show()\n",
    "    print(\"Label:\",int(y_train[toShow]))\n"
   ]
  },
  {
   "cell_type": "markdown",
   "metadata": {},
   "source": [
    "### Question 3"
   ]
  },
  {
   "cell_type": "code",
   "execution_count": 4,
   "metadata": {},
   "outputs": [],
   "source": [
    "## Part A \n",
    "\n",
    "## nearest neighbor classifier\n",
    "def f(_x):\n",
    "    assert np.shape(_x)==np.shape(x_train[0]) #check to make sure input is a single 28x28 np array \n",
    "    distances = [np.linalg.norm(_x-x_train[i]) for i in range(len(y_train))] #calculate distance as pixel difference\n",
    "    nearest_neighbor = np.argmin(distances) #find index of smallest distance\n",
    "    return (y_train[nearest_neighbor], nearest_neighbor)  #return the label of the nearest neighbor, and index"
   ]
  },
  {
   "cell_type": "code",
   "execution_count": 5,
   "metadata": {},
   "outputs": [
    {
     "name": "stdout",
     "output_type": "stream",
     "text": [
      "Label of Actual and Predicted Match: True\n",
      "Predicted Label: 7.0\n",
      "Actual Label 7.0\n",
      "Misclassification Loss: 0\n",
      "Squared Error: 0.0\n"
     ]
    }
   ],
   "source": [
    "## Part B\n",
    "\n",
    "[label,index] = f(x_test[0])\n",
    "correct = int(label)==int(y_test[0]) #check if prediction correct\n",
    "misclass_loss = 0 if correct else 1 #calculate misclassification loss\n",
    "norm_loss = np.linalg.norm(y_train[index]-y_test[0])**2 #calculate square error loss\n",
    "\n",
    "print(\"Label of Actual and Predicted Match:\",correct)\n",
    "print(\"Predicted Label:\",label)\n",
    "print(\"Actual Label\",y_test[0])\n",
    "print(\"Misclassification Loss:\",misclass_loss)\n",
    "print(\"Squared Error:\",norm_loss)"
   ]
  },
  {
   "cell_type": "code",
   "execution_count": 6,
   "metadata": {},
   "outputs": [
    {
     "name": "stdout",
     "output_type": "stream",
     "text": [
      "Empirical Misclassification Loss 0.127\n",
      "Empirical Square Error Loss 2.103\n"
     ]
    }
   ],
   "source": [
    "## Part C\n",
    "\n",
    "misclass_sum = 0\n",
    "norm_sum = 0\n",
    "incorrect = np.array([[],[]])\n",
    "num_classifications = 1000\n",
    "for i in range(num_classifications): #predict first 1000 elements of test data\n",
    "    [label,index] = f(x_test[i])\n",
    "    correct = int(label)==int(y_test[i])\n",
    "    if not correct:\n",
    "        misclass_sum += 1\n",
    "        incorrect = np.append(incorrect,[[i],[index]],axis=1) #append the index of the incorrect predicition\n",
    "    norm_sum += np.linalg.norm(y_train[index]-y_test[i])**2\n",
    "misclass_emp = misclass_sum/num_classifications\n",
    "norm_emp = norm_sum/num_classifications\n",
    "print(\"Empirical Misclassification Loss\",misclass_emp)\n",
    "print(\"Empirical Square Error Loss\",norm_emp)"
   ]
  },
  {
   "cell_type": "code",
   "execution_count": 7,
   "metadata": {},
   "outputs": [
    {
     "name": "stdout",
     "output_type": "stream",
     "text": [
      "Actual Image on Left Nearest Neighbor on Right\n"
     ]
    },
    {
     "data": {
      "image/png": "[encoded data removed]",
      "text/plain": [
       "<Figure size 432x288 with 2 Axes>"
      ]
     },
     "metadata": {
      "needs_background": "light"
     },
     "output_type": "display_data"
    },
    {
     "data": {
      "image/png": "[encoded data removed]",
      "text/plain": [
       "<Figure size 432x288 with 2 Axes>"
      ]
     },
     "metadata": {
      "needs_background": "light"
     },
     "output_type": "display_data"
    },
    {
     "data": {
      "image/png": "[encoded data removed]",
      "text/plain": [
       "<Figure size 432x288 with 2 Axes>"
      ]
     },
     "metadata": {
      "needs_background": "light"
     },
     "output_type": "display_data"
    }
   ],
   "source": [
    "## Part D\n",
    "\n",
    "print(\"Actual Image on Left Nearest Neighbor on Right\")\n",
    "for j in range(3):\n",
    "    actual = x_test[int(incorrect[0,j])]\n",
    "    neighbor = x_train[int(incorrect[1,j])]\n",
    "    f = plt.figure()\n",
    "    f.add_subplot(1,2, 1)\n",
    "    plt.imshow(actual, cmap=plt.cm.gray_r)\n",
    "    plt.title(\"Label: \"+str(y_test[int(incorrect[0,j])]))\n",
    "    f.add_subplot(1,2, 2)\n",
    "    plt.imshow(neighbor, cmap=plt.cm.gray_r)\n",
    "    plt.title(\"Label: \"+str(y_train[int(incorrect[1,j])]))\n",
    "    plt.show(block=True)\n",
    "    "
   ]
  },
  {
   "cell_type": "code",
   "execution_count": 8,
   "metadata": {},
   "outputs": [],
   "source": [
    "# It is clear once visualizing the images how they were incorrectly predicted.\n",
    "# Many contain similar features and have a lot of overlap in size and curvature.\n",
    "# For some of the images I myself would have a hard time correctly labeling the image.\n",
    "\n",
    "# This exemplifies one of the draw backs of using nearest neighbors classification. As images\n",
    "# may have a large overlap in which pixels are on/off but contain different information."
   ]
  },
  {
   "cell_type": "markdown",
   "metadata": {},
   "source": [
    "### Question 4"
   ]
  },
  {
   "cell_type": "code",
   "execution_count": 9,
   "metadata": {},
   "outputs": [],
   "source": [
    "## k nearest neighbors classifier\n",
    "def knn(_x,k):\n",
    "    assert np.shape(_x)==np.shape(x_train[0]) #check to make sure input is a single 28x28 np array\n",
    "    distances = [np.linalg.norm(_x-x_train[i]) for i in range(len(y_train))]\n",
    "    distances = np.array(distances)\n",
    "    distance_sorted = distances.argsort()\n",
    "    distances_min = distance_sorted[0:k]\n",
    "    return np.argmax(np.bincount(y_train[distances_min].astype(int))) #return the label of most occuring neighbor"
   ]
  },
  {
   "cell_type": "code",
   "execution_count": 10,
   "metadata": {},
   "outputs": [
    {
     "name": "stdout",
     "output_type": "stream",
     "text": [
      "Empirical Misclassification Loss 0.136\n",
      "Square Error Loss 2.394\n"
     ]
    }
   ],
   "source": [
    "misclass_sum = 0\n",
    "square_error_sum = 0\n",
    "num_classifications = 1000\n",
    "k = 10\n",
    "for i in range(num_classifications):\n",
    "    pred_label = knn(x_test[i],k)\n",
    "    misclass_sum += 0 if (pred_label==int(y_test[i])) else 1\n",
    "    square_error_sum += np.linalg.norm(pred_label-y_test[i])**2\n",
    "misclass_emp = misclass_sum/num_classifications\n",
    "square_error_emp = square_error_sum/num_classifications\n",
    "print(\"Empirical Misclassification Loss\",misclass_emp)\n",
    "print(\"Square Error Loss\",square_error_emp)"
   ]
  },
  {
   "cell_type": "code",
   "execution_count": null,
   "metadata": {},
   "outputs": [],
   "source": []
  }
 ],
 "metadata": {
  "kernelspec": {
   "display_name": "Python 3",
   "language": "python",
   "name": "python3"
  },
  "language_info": {
   "codemirror_mode": {
    "name": "ipython",
    "version": 3
   },
   "file_extension": ".py",
   "mimetype": "text/x-python",
   "name": "python",
   "nbconvert_exporter": "python",
   "pygments_lexer": "ipython3",
   "version": "3.8.5"
  }
 },
 "nbformat": 4,
 "nbformat_minor": 2
}
