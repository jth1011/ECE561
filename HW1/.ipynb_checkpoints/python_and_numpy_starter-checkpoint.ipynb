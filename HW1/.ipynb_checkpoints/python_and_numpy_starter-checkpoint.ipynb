{
 "cells": [
  {
   "cell_type": "markdown",
   "metadata": {},
   "source": [
    "### Question 2"
   ]
  },
  {
   "cell_type": "code",
   "execution_count": 1,
   "metadata": {},
   "outputs": [
    {
     "name": "stdout",
     "output_type": "stream",
     "text": [
      "['this', 'data', 'automated', 'data', 'is', 'learning', 'particular', 'machine', 'a', 'methods', 'automatically', 'in', 'then', 'uncovered', 'predict', 'or', 'other', 'decision', 'uncertainty']\n",
      "uncovered\n"
     ]
    }
   ],
   "source": [
    "# ECE 561 - Jackson Hellmers\n",
    "\n",
    "# Parts A, B and C\n",
    "in_string = \"this deluge of data calls for automated methods of data analysis which is what machine learning provides in particular we define machine learning as a set of methods that can automatically detect patterns in data and then use the uncovered patterns to predict future data or to perform other kinds of decision making under uncertainty\"\n",
    "list_of_strings = in_string.split()\n",
    "print(list_of_strings[::3])  #fix me to answer the question\n",
    "print(list_of_strings[-16])  #fix me to answer the question"
   ]
  },
  {
   "cell_type": "code",
   "execution_count": 2,
   "metadata": {},
   "outputs": [
    {
     "name": "stdout",
     "output_type": "stream",
     "text": [
      "('this', 'deluge', 'of', 'data', 'calls', 'for', 'automated', 'methods', 'of', 'data', 'analysis', 'which', 'is', 'what', 'machine', 'learning', 'provides', 'in', 'particular', 'we', 'define', 'machine', 'learning', 'as', 'a', 'set', 'of', 'methods', 'that', 'can', 'automatically', 'detect', 'patterns', 'in', 'data', 'and', 'then', 'use', 'the', 'uncovered', 'patterns', 'to', 'predict', 'future', 'data', 'or', 'to', 'perform', 'other', 'kinds', 'of', 'decision', 'making', 'under', 'uncertainty')\n"
     ]
    }
   ],
   "source": [
    "# Part D\n",
    "tuple_of_strings = tuple(list_of_strings)\n",
    "print(tuple_of_strings)\n",
    "\n",
    "# A tuple is a built-in data type that unlike a list is immutable. This means that if you want a structure similar to\n",
    "# list but do not want the elements to change you should use a tuple."
   ]
  },
  {
   "cell_type": "code",
   "execution_count": 3,
   "metadata": {},
   "outputs": [
    {
     "name": "stdout",
     "output_type": "stream",
     "text": [
      "Number of items in set: 43\n",
      "Set Length equal to List Length: False\n"
     ]
    }
   ],
   "source": [
    "# Part E\n",
    "set_of_strings = set(list_of_strings)\n",
    "print(\"Number of items in set:\",len(set_of_strings))\n",
    "print(\"Set Length equal to List Length:\",len(list_of_strings)==len(set_of_strings))\n",
    "\n",
    "# Sets do not allow duplicates so repeated words are removed resulting in different lengths. A set is also unordered\n",
    "# while a list is ordered."
   ]
  },
  {
   "cell_type": "code",
   "execution_count": 4,
   "metadata": {},
   "outputs": [
    {
     "name": "stdout",
     "output_type": "stream",
     "text": [
      "{'this': 1, 'deluge': 1, 'of': 4, 'data': 4, 'calls': 1, 'for': 1, 'automated': 1, 'methods': 2, 'analysis': 1, 'which': 1, 'is': 1, 'what': 1, 'machine': 2, 'learning': 2, 'provides': 1, 'in': 2, 'particular': 1, 'we': 1, 'define': 1, 'as': 1, 'a': 1, 'set': 1, 'that': 1, 'can': 1, 'automatically': 1, 'detect': 1, 'patterns': 2, 'and': 1, 'then': 1, 'use': 1, 'the': 1, 'uncovered': 1, 'to': 2, 'predict': 1, 'future': 1, 'or': 1, 'perform': 1, 'other': 1, 'kinds': 1, 'decision': 1, 'making': 1, 'under': 1, 'uncertainty': 1}\n",
      "which\n"
     ]
    }
   ],
   "source": [
    "# Part F\n",
    "d = {}  #create an empty dictionary\n",
    "for i in list_of_strings:\n",
    "    if i not in d:\n",
    "        d[i]=0\n",
    "    d[i] =  list_of_strings.count(i)\n",
    "    #d[i] = d[i] + 1\n",
    "    \n",
    "print(d)\n",
    "print(max(d))"
   ]
  },
  {
   "cell_type": "code",
   "execution_count": 5,
   "metadata": {},
   "outputs": [
    {
     "name": "stdout",
     "output_type": "stream",
     "text": [
      "[('this', 1), ('deluge', 1), ('of', 4), ('data', 4), ('calls', 1), ('for', 1), ('automated', 1), ('methods', 2), ('analysis', 1), ('which', 1), ('is', 1), ('what', 1), ('machine', 2), ('learning', 2), ('provides', 1), ('in', 2), ('particular', 1), ('we', 1), ('define', 1), ('as', 1), ('a', 1), ('set', 1), ('that', 1), ('can', 1), ('automatically', 1), ('detect', 1), ('patterns', 2), ('and', 1), ('then', 1), ('use', 1), ('the', 1), ('uncovered', 1), ('to', 2), ('predict', 1), ('future', 1), ('or', 1), ('perform', 1), ('other', 1), ('kinds', 1), ('decision', 1), ('making', 1), ('under', 1), ('uncertainty', 1)]\n"
     ]
    }
   ],
   "source": [
    "list_of_tuples = [(k,v) for k,v in d.items()]  #this line uses a list comprehension \n",
    "print(list_of_tuples)"
   ]
  },
  {
   "cell_type": "code",
   "execution_count": 6,
   "metadata": {},
   "outputs": [
    {
     "ename": "SyntaxError",
     "evalue": "invalid syntax (<ipython-input-6-5945790b833b>, line 5)",
     "output_type": "error",
     "traceback": [
      "\u001b[1;36m  File \u001b[1;32m\"<ipython-input-6-5945790b833b>\"\u001b[1;36m, line \u001b[1;32m5\u001b[0m\n\u001b[1;33m    A_inv = #complete this line\u001b[0m\n\u001b[1;37m            ^\u001b[0m\n\u001b[1;31mSyntaxError\u001b[0m\u001b[1;31m:\u001b[0m invalid syntax\n"
     ]
    }
   ],
   "source": [
    "import numpy as np\n",
    "import matplotlib.pyplot as plt\n",
    "A = [[1,1,3],[4,4,4],[5,6,9]]\n",
    "A = np.array(A)\n",
    "A_inv = #complete this line\n",
    "\n",
    "print(A_inv)\n",
    "\n",
    "### Write code below to answer question"
   ]
  }
 ],
 "metadata": {
  "kernelspec": {
   "display_name": "Python 3",
   "language": "python",
   "name": "python3"
  },
  "language_info": {
   "codemirror_mode": {
    "name": "ipython",
    "version": 3
   },
   "file_extension": ".py",
   "mimetype": "text/x-python",
   "name": "python",
   "nbconvert_exporter": "python",
   "pygments_lexer": "ipython3",
   "version": "3.8.5"
  }
 },
 "nbformat": 4,
 "nbformat_minor": 2
}
