{
 "cells": [
  {
   "cell_type": "markdown",
   "metadata": {},
   "source": [
    "### Question 2"
   ]
  },
  {
   "cell_type": "code",
   "execution_count": 1,
   "metadata": {},
   "outputs": [
    {
     "name": "stdout",
     "output_type": "stream",
     "text": [
      "['this', 'data', 'automated', 'data', 'is', 'learning', 'particular', 'machine', 'a', 'methods', 'automatically', 'in', 'then', 'uncovered', 'predict', 'or', 'other', 'decision', 'uncertainty']\n",
      "uncovered\n"
     ]
    }
   ],
   "source": [
    "# ECE 561 - Jackson Hellmers\n",
    "\n",
    "# Parts A, B and C\n",
    "in_string = \"this deluge of data calls for automated methods of data analysis which is what machine learning provides in particular we define machine learning as a set of methods that can automatically detect patterns in data and then use the uncovered patterns to predict future data or to perform other kinds of decision making under uncertainty\"\n",
    "list_of_strings = in_string.split()\n",
    "print(list_of_strings[::3])  #fix me to answer the question\n",
    "print(list_of_strings[-16])  #fix me to answer the question"
   ]
  },
  {
   "cell_type": "code",
   "execution_count": 2,
   "metadata": {},
   "outputs": [
    {
     "name": "stdout",
     "output_type": "stream",
     "text": [
      "('this', 'deluge', 'of', 'data', 'calls', 'for', 'automated', 'methods', 'of', 'data', 'analysis', 'which', 'is', 'what', 'machine', 'learning', 'provides', 'in', 'particular', 'we', 'define', 'machine', 'learning', 'as', 'a', 'set', 'of', 'methods', 'that', 'can', 'automatically', 'detect', 'patterns', 'in', 'data', 'and', 'then', 'use', 'the', 'uncovered', 'patterns', 'to', 'predict', 'future', 'data', 'or', 'to', 'perform', 'other', 'kinds', 'of', 'decision', 'making', 'under', 'uncertainty')\n"
     ]
    }
   ],
   "source": [
    "# Part D\n",
    "tuple_of_strings = tuple(list_of_strings)\n",
    "print(tuple_of_strings)\n",
    "\n",
    "# A tuple is a built-in data type that unlike a list is immutable. This means that if you want a structure similar to\n",
    "# list but do not want the elements to change you should use a tuple."
   ]
  },
  {
   "cell_type": "code",
   "execution_count": 3,
   "metadata": {},
   "outputs": [
    {
     "name": "stdout",
     "output_type": "stream",
     "text": [
      "Number of items in set: 43\n",
      "Set Length equal to List Length: False\n"
     ]
    }
   ],
   "source": [
    "# Part E\n",
    "set_of_strings = set(list_of_strings)\n",
    "print(\"Number of items in set:\",len(set_of_strings))\n",
    "print(\"Set Length equal to List Length:\",len(list_of_strings)==len(set_of_strings))\n",
    "\n",
    "# Sets do not allow duplicates so repeated words are removed resulting in different lengths. A set is also unordered\n",
    "# while a list is ordered."
   ]
  },
  {
   "cell_type": "code",
   "execution_count": 19,
   "metadata": {},
   "outputs": [
    {
     "name": "stdout",
     "output_type": "stream",
     "text": [
      "{'this': 1, 'deluge': 1, 'of': 4, 'data': 4, 'calls': 1, 'for': 1, 'automated': 1, 'methods': 2, 'analysis': 1, 'which': 1, 'is': 1, 'what': 1, 'machine': 2, 'learning': 2, 'provides': 1, 'in': 2, 'particular': 1, 'we': 1, 'define': 1, 'as': 1, 'a': 1, 'set': 1, 'that': 1, 'can': 1, 'automatically': 1, 'detect': 1, 'patterns': 2, 'and': 1, 'then': 1, 'use': 1, 'the': 1, 'uncovered': 1, 'to': 2, 'predict': 1, 'future': 1, 'or': 1, 'perform': 1, 'other': 1, 'kinds': 1, 'decision': 1, 'making': 1, 'under': 1, 'uncertainty': 1}\n",
      "Most Frequent Word: of - occuring 4 times\n"
     ]
    }
   ],
   "source": [
    "# Part F\n",
    "d = {}  #create an empty dictionary\n",
    "for i in list_of_strings:\n",
    "    if i not in d:\n",
    "        d[i]=0\n",
    "    #d[i] =  list_of_strings.count(i)\n",
    "    d[i] = d[i] + 1\n",
    "    \n",
    "print(d)\n",
    "occur = max(d, key=d.get)\n",
    "print(\"Most Frequent Word:\",occur,\"- occuring\",d[occur],\"times\")"
   ]
  },
  {
   "cell_type": "code",
   "execution_count": 5,
   "metadata": {},
   "outputs": [
    {
     "name": "stdout",
     "output_type": "stream",
     "text": [
      "[('this', 1), ('deluge', 1), ('of', 4), ('data', 4), ('calls', 1), ('for', 1), ('automated', 1), ('methods', 2), ('analysis', 1), ('which', 1), ('is', 1), ('what', 1), ('machine', 2), ('learning', 2), ('provides', 1), ('in', 2), ('particular', 1), ('we', 1), ('define', 1), ('as', 1), ('a', 1), ('set', 1), ('that', 1), ('can', 1), ('automatically', 1), ('detect', 1), ('patterns', 2), ('and', 1), ('then', 1), ('use', 1), ('the', 1), ('uncovered', 1), ('to', 2), ('predict', 1), ('future', 1), ('or', 1), ('perform', 1), ('other', 1), ('kinds', 1), ('decision', 1), ('making', 1), ('under', 1), ('uncertainty', 1)]\n"
     ]
    }
   ],
   "source": [
    "# Part H\n",
    "list_of_tuples = [(k,v) for k,v in d.items()]  #this line uses a list comprehension \n",
    "print(list_of_tuples)"
   ]
  },
  {
   "cell_type": "markdown",
   "metadata": {},
   "source": [
    "### Question 3"
   ]
  },
  {
   "cell_type": "code",
   "execution_count": 22,
   "metadata": {},
   "outputs": [
    {
     "name": "stdout",
     "output_type": "stream",
     "text": [
      "[[ 1.5    1.125 -1.   ]\n",
      " [-2.    -0.75   1.   ]\n",
      " [ 0.5   -0.125  0.   ]]\n"
     ]
    }
   ],
   "source": [
    "# Part A, B and C\n",
    "import numpy as np\n",
    "import matplotlib.pyplot as plt\n",
    "A = [[1,1,3],[4,4,4],[5,6,9]]\n",
    "A = np.array(A)\n",
    "A_inv = np.linalg.inv(A)\n",
    "\n",
    "print(A_inv)\n",
    "\n",
    "### Write code below to answer question"
   ]
  },
  {
   "cell_type": "code",
   "execution_count": 25,
   "metadata": {},
   "outputs": [
    {
     "name": "stdout",
     "output_type": "stream",
     "text": [
      "[0.82662575 0.57225401 0.97269111 0.79290621 0.44398145 0.16446366\n",
      " 0.6624094  0.07943787 0.7917924  0.34098034]\n"
     ]
    }
   ],
   "source": [
    "# Part D\n",
    "rand_10 = np.random.rand(10)\n",
    "print(rand_10)"
   ]
  },
  {
   "cell_type": "code",
   "execution_count": 26,
   "metadata": {},
   "outputs": [
    {
     "name": "stdout",
     "output_type": "stream",
     "text": [
      "[0.12306193110957686, 0.011118579783409022, 0.0016560753011836127, 0.0001394960009940549, 5.800378605202994e-07, 1.115730806189319e-06, 1.369673865436738e-07, 1.8974449678133e-08]\n"
     ]
    }
   ],
   "source": [
    "# Part E\n",
    "n_vals = [1,2,3,4,5,6,7,8]\n",
    "min_rand_vals = [min(np.random.rand(pow(10,n))) for n in n_vals]\n",
    "print(min_rand_vals)"
   ]
  },
  {
   "cell_type": "code",
   "execution_count": 30,
   "metadata": {},
   "outputs": [
    {
     "data": {
      "text/plain": [
       "[<matplotlib.lines.Line2D at 0x2150002efa0>]"
      ]
     },
     "execution_count": 30,
     "metadata": {},
     "output_type": "execute_result"
    },
    {
     "data": {
      "image/png": "[encoded data removed]",
      "text/plain": [
       "<Figure size 432x288 with 1 Axes>"
      ]
     },
     "metadata": {
      "needs_background": "light"
     },
     "output_type": "display_data"
    }
   ],
   "source": [
    "# Part E Continued\n",
    "plt.plot(n_vals,np.log(min_rand_vals))\n",
    "\n",
    "# I expected the graph to trend downward so that seems correct. I am unsure if the logarithm of the minimum values is\n",
    "# supposed to be linear or not but if n=10^5 is disregarded the trend appears very linear.\n",
    "\n",
    "# The downward trend is expeted as the larger value of n allows for more random samples. If each number generated is\n",
    "# truly random than having more samples would give more possibilty for a small number to appear."
   ]
  },
  {
   "cell_type": "code",
   "execution_count": null,
   "metadata": {},
   "outputs": [],
   "source": []
  }
 ],
 "metadata": {
  "kernelspec": {
   "display_name": "Python 3",
   "language": "python",
   "name": "python3"
  },
  "language_info": {
   "codemirror_mode": {
    "name": "ipython",
    "version": 3
   },
   "file_extension": ".py",
   "mimetype": "text/x-python",
   "name": "python",
   "nbconvert_exporter": "python",
   "pygments_lexer": "ipython3",
   "version": "3.8.5"
  }
 },
 "nbformat": 4,
 "nbformat_minor": 2
}
